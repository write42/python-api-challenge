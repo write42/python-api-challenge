{
 "cells": [
  {
   "cell_type": "code",
   "execution_count": 1,
   "metadata": {},
   "outputs": [],
   "source": [
    "# Dependencies and Setup\n",
    "import matplotlib.pyplot as plt\n",
    "import pandas as pd\n",
    "import numpy as np\n",
    "import requests\n",
    "import time\n",
    "#!pip install citipy Do this for installations.\n",
    "from scipy.stats import linregress\n",
    "\n",
    "# Import API key\n",
    "#from config import weather_api_key\n",
    "\n",
    "# Incorporated citipy to determine city based on latitude and longitude\n",
    "#from citipy import citipy\n",
    "\n",
    "# Output File (CSV)\n",
    "#output_data_file = \"Resources/cities.csv\"\n",
    "\n",
    "# Range of latitudes and longitudes\n",
    "#lat_range = (-90, 90)\n",
    "#lng_range = (-180, 180)"
   ]
  },
  {
   "cell_type": "code",
   "execution_count": 2,
   "metadata": {},
   "outputs": [],
   "source": [
    " # List for holding lat_lngs and cities\n",
    "#lat_lngs = []\n",
    "#cities = []\n",
    "\n",
    "# Create a set of random lat and lng combinations\n",
    "#lats = np.random.uniform(lat_range[0], lat_range[1], size=1500)\n",
    "#lngs = np.random.uniform(lng_range[0], lng_range[1], size=1500)\n",
    "#lat_lngs = zip(lats, lngs)\n",
    "\n",
    "# Identify nearest city for each lat, lng combination\n",
    "#for lat_lng in lat_lngs:\n",
    " #   city = citipy.nearest_city(lat_lng[0], lat_lng[1]).city_name \n",
    "    \n",
    "    # If the city is unique, then add it to a our cities list\n",
    "  #  if city not in cities:\n",
    "   #     cities.append(city)\n",
    "\n",
    "# Print the city count to confirm sufficient count\n",
    "#len(cities)"
   ]
  },
  {
   "cell_type": "code",
   "execution_count": 3,
   "metadata": {},
   "outputs": [],
   "source": [
    "#city = \"London\"\n",
    "#url = f\"http://api.openweathermap.org/data/2.5/weather?q=\"\n",
    "#Used to check where to look in response\n",
    "#test_url = f\"http://api.openweathermap.org/data/2.5/weather?\"\n",
    "#query_url = f\"{test_url}appid={weather_api_key}&q=\"\n",
    "#test_query_url = test_url + \"appid=\" + weather_api_key + \"&q=\" + city"
   ]
  },
  {
   "cell_type": "code",
   "execution_count": 4,
   "metadata": {},
   "outputs": [],
   "source": [
    "#weather_response = requests.get(test_query_url)\n",
    "#weather_json = weather_response.json()"
   ]
  },
  {
   "cell_type": "code",
   "execution_count": 5,
   "metadata": {},
   "outputs": [],
   "source": [
    "#print(weather_json)"
   ]
  },
  {
   "cell_type": "code",
   "execution_count": 6,
   "metadata": {},
   "outputs": [],
   "source": [
    "#lat = []\n",
    "#long = []\n",
    "#max_temp = []\n",
    "#humid = []\n",
    "#cloud = []\n",
    "#wind = []\n",
    "#country = []\n",
    "#date = []\n",
    "#city_s = []\n",
    "#city_count = 0\n",
    "#city_set = 1\n",
    "#print(\"Beginning Data Retrieval\")\n",
    "#print(\"------------------------------\")\n",
    "# variable that counts the city that were found.\n",
    "#for city in cities:\n",
    "#    response = requests.get(query_url + city).json()\n",
    "#    try:       \n",
    "    #print(response)\n",
    "         #print(\"Processing Record of \")\n",
    "#        city_s.append(response[\"name\"])\n",
    "#        lat.append(response[\"coord\"][\"lat\"])\n",
    "#        long.append(response[\"coord\"][\"lon\"])\n",
    "#        max_temp.append(response[\"main\"][\"temp_max\"])\n",
    "#        humid.append(response[\"main\"][\"humidity\"])\n",
    "#        cloud.append(response[\"clouds\"][\"all\"])\n",
    "#        wind.append(response[\"wind\"][\"speed\"])\n",
    "#        country.append(response[\"sys\"][\"country\"])\n",
    "#        date.append(response[\"dt\"])\n",
    "#        print(f\"Processing Record {city_count} of Set {city_set} | {city}\")\n",
    "#        city_count += 1\n",
    "#        if city_count == 50:\n",
    "#            city_count = 0\n",
    "#            city_set += 1\n",
    "#    except:\n",
    "#        print(\"City not found. Skipping...\")\n",
    "#        pass"
   ]
  },
  {
   "cell_type": "code",
   "execution_count": 7,
   "metadata": {},
   "outputs": [],
   "source": [
    "# for loop of index of cities in sets of 50. And print out city name"
   ]
  },
  {
   "cell_type": "code",
   "execution_count": 8,
   "metadata": {},
   "outputs": [],
   "source": [
    "#weather_df = pd.DataFrame({\"City\": city_s,\n",
    "#                          \"Lat\": lat,\n",
    "#                          \"Lng\": long,\n",
    "#                          \"Max Temp\": max_temp,\n",
    "#                          \"Humidity\": humid,\n",
    "#                          \"Cloudiness\": cloud,\n",
    "#                          \"Wind Speed\": wind,\n",
    "#                          \"Country\": country,\n",
    "#                          \"Date\": date})\n",
    "#weather_df"
   ]
  },
  {
   "cell_type": "code",
   "execution_count": 9,
   "metadata": {},
   "outputs": [
    {
     "ename": "NameError",
     "evalue": "name 'weather_df' is not defined",
     "output_type": "error",
     "traceback": [
      "\u001b[1;31m---------------------------------------------------------------------------\u001b[0m",
      "\u001b[1;31mNameError\u001b[0m                                 Traceback (most recent call last)",
      "\u001b[1;32m<ipython-input-9-919023abb069>\u001b[0m in \u001b[0;36m<module>\u001b[1;34m\u001b[0m\n\u001b[0;32m      1\u001b[0m \u001b[1;31m# weather_csv = None\u001b[0m\u001b[1;33m\u001b[0m\u001b[1;33m\u001b[0m\u001b[1;33m\u001b[0m\u001b[0m\n\u001b[1;32m----> 2\u001b[1;33m \u001b[0mweather_df\u001b[0m\u001b[1;33m.\u001b[0m\u001b[0mto_csv\u001b[0m\u001b[1;33m(\u001b[0m\u001b[1;34m\"Weather.csv\"\u001b[0m\u001b[1;33m,\u001b[0m\u001b[0mindex\u001b[0m\u001b[1;33m=\u001b[0m\u001b[1;32mFalse\u001b[0m\u001b[1;33m)\u001b[0m\u001b[1;33m\u001b[0m\u001b[1;33m\u001b[0m\u001b[0m\n\u001b[0m\u001b[0;32m      3\u001b[0m \u001b[1;31m# print(weather_csv != None)\u001b[0m\u001b[1;33m\u001b[0m\u001b[1;33m\u001b[0m\u001b[1;33m\u001b[0m\u001b[0m\n",
      "\u001b[1;31mNameError\u001b[0m: name 'weather_df' is not defined"
     ]
    }
   ],
   "source": [
    "# weather_csv = None\n",
    "#weather_df.to_csv(\"Weather.csv\",index=False)\n",
    "# print(weather_csv != None)"
   ]
  },
  {
   "cell_type": "code",
   "execution_count": null,
   "metadata": {},
   "outputs": [],
   "source": [
    "#import pandas as pd\n",
    "#import matplotlib.pyplot as plt"
   ]
  },
  {
   "cell_type": "code",
   "execution_count": 10,
   "metadata": {},
   "outputs": [
    {
     "data": {
      "text/html": [
       "<div>\n",
       "<style scoped>\n",
       "    .dataframe tbody tr th:only-of-type {\n",
       "        vertical-align: middle;\n",
       "    }\n",
       "\n",
       "    .dataframe tbody tr th {\n",
       "        vertical-align: top;\n",
       "    }\n",
       "\n",
       "    .dataframe thead th {\n",
       "        text-align: right;\n",
       "    }\n",
       "</style>\n",
       "<table border=\"1\" class=\"dataframe\">\n",
       "  <thead>\n",
       "    <tr style=\"text-align: right;\">\n",
       "      <th></th>\n",
       "      <th>City</th>\n",
       "      <th>Lat</th>\n",
       "      <th>Lng</th>\n",
       "      <th>Max Temp</th>\n",
       "      <th>Humidity</th>\n",
       "      <th>Cloudiness</th>\n",
       "      <th>Wind Speed</th>\n",
       "      <th>Country</th>\n",
       "      <th>Date</th>\n",
       "    </tr>\n",
       "  </thead>\n",
       "  <tbody>\n",
       "    <tr>\n",
       "      <th>0</th>\n",
       "      <td>Saldanha</td>\n",
       "      <td>-33.0117</td>\n",
       "      <td>17.9442</td>\n",
       "      <td>290.15</td>\n",
       "      <td>82</td>\n",
       "      <td>6</td>\n",
       "      <td>2.57</td>\n",
       "      <td>ZA</td>\n",
       "      <td>1612404021</td>\n",
       "    </tr>\n",
       "    <tr>\n",
       "      <th>1</th>\n",
       "      <td>Georgiyevka</td>\n",
       "      <td>43.0369</td>\n",
       "      <td>74.7114</td>\n",
       "      <td>268.15</td>\n",
       "      <td>93</td>\n",
       "      <td>90</td>\n",
       "      <td>0.63</td>\n",
       "      <td>KZ</td>\n",
       "      <td>1612404021</td>\n",
       "    </tr>\n",
       "    <tr>\n",
       "      <th>2</th>\n",
       "      <td>Upernavik</td>\n",
       "      <td>72.7868</td>\n",
       "      <td>-56.1549</td>\n",
       "      <td>246.75</td>\n",
       "      <td>70</td>\n",
       "      <td>0</td>\n",
       "      <td>2.17</td>\n",
       "      <td>GL</td>\n",
       "      <td>1612404021</td>\n",
       "    </tr>\n",
       "    <tr>\n",
       "      <th>3</th>\n",
       "      <td>Vaini</td>\n",
       "      <td>-21.2000</td>\n",
       "      <td>-175.2000</td>\n",
       "      <td>300.85</td>\n",
       "      <td>82</td>\n",
       "      <td>100</td>\n",
       "      <td>4.39</td>\n",
       "      <td>TO</td>\n",
       "      <td>1612404022</td>\n",
       "    </tr>\n",
       "    <tr>\n",
       "      <th>4</th>\n",
       "      <td>Qaanaaq</td>\n",
       "      <td>77.4840</td>\n",
       "      <td>-69.3632</td>\n",
       "      <td>243.14</td>\n",
       "      <td>64</td>\n",
       "      <td>0</td>\n",
       "      <td>2.20</td>\n",
       "      <td>GL</td>\n",
       "      <td>1612404022</td>\n",
       "    </tr>\n",
       "    <tr>\n",
       "      <th>...</th>\n",
       "      <td>...</td>\n",
       "      <td>...</td>\n",
       "      <td>...</td>\n",
       "      <td>...</td>\n",
       "      <td>...</td>\n",
       "      <td>...</td>\n",
       "      <td>...</td>\n",
       "      <td>...</td>\n",
       "      <td>...</td>\n",
       "    </tr>\n",
       "    <tr>\n",
       "      <th>540</th>\n",
       "      <td>Whitehorse</td>\n",
       "      <td>60.7161</td>\n",
       "      <td>-135.0538</td>\n",
       "      <td>253.15</td>\n",
       "      <td>77</td>\n",
       "      <td>20</td>\n",
       "      <td>1.03</td>\n",
       "      <td>CA</td>\n",
       "      <td>1612404007</td>\n",
       "    </tr>\n",
       "    <tr>\n",
       "      <th>541</th>\n",
       "      <td>Santa Cruz de la Sierra</td>\n",
       "      <td>-17.8000</td>\n",
       "      <td>-63.1667</td>\n",
       "      <td>298.15</td>\n",
       "      <td>83</td>\n",
       "      <td>75</td>\n",
       "      <td>6.69</td>\n",
       "      <td>BO</td>\n",
       "      <td>1612404006</td>\n",
       "    </tr>\n",
       "    <tr>\n",
       "      <th>542</th>\n",
       "      <td>Tortolì</td>\n",
       "      <td>39.9256</td>\n",
       "      <td>9.6572</td>\n",
       "      <td>287.04</td>\n",
       "      <td>88</td>\n",
       "      <td>0</td>\n",
       "      <td>5.14</td>\n",
       "      <td>IT</td>\n",
       "      <td>1612404177</td>\n",
       "    </tr>\n",
       "    <tr>\n",
       "      <th>543</th>\n",
       "      <td>Flinders</td>\n",
       "      <td>-34.5833</td>\n",
       "      <td>150.8552</td>\n",
       "      <td>301.48</td>\n",
       "      <td>65</td>\n",
       "      <td>46</td>\n",
       "      <td>2.24</td>\n",
       "      <td>AU</td>\n",
       "      <td>1612404177</td>\n",
       "    </tr>\n",
       "    <tr>\n",
       "      <th>544</th>\n",
       "      <td>Myitkyina</td>\n",
       "      <td>25.3833</td>\n",
       "      <td>97.4000</td>\n",
       "      <td>289.91</td>\n",
       "      <td>46</td>\n",
       "      <td>0</td>\n",
       "      <td>1.31</td>\n",
       "      <td>MM</td>\n",
       "      <td>1612404177</td>\n",
       "    </tr>\n",
       "  </tbody>\n",
       "</table>\n",
       "<p>545 rows × 9 columns</p>\n",
       "</div>"
      ],
      "text/plain": [
       "                        City      Lat       Lng  Max Temp  Humidity  \\\n",
       "0                   Saldanha -33.0117   17.9442    290.15        82   \n",
       "1                Georgiyevka  43.0369   74.7114    268.15        93   \n",
       "2                  Upernavik  72.7868  -56.1549    246.75        70   \n",
       "3                      Vaini -21.2000 -175.2000    300.85        82   \n",
       "4                    Qaanaaq  77.4840  -69.3632    243.14        64   \n",
       "..                       ...      ...       ...       ...       ...   \n",
       "540               Whitehorse  60.7161 -135.0538    253.15        77   \n",
       "541  Santa Cruz de la Sierra -17.8000  -63.1667    298.15        83   \n",
       "542                  Tortolì  39.9256    9.6572    287.04        88   \n",
       "543                 Flinders -34.5833  150.8552    301.48        65   \n",
       "544                Myitkyina  25.3833   97.4000    289.91        46   \n",
       "\n",
       "     Cloudiness  Wind Speed Country        Date  \n",
       "0             6        2.57      ZA  1612404021  \n",
       "1            90        0.63      KZ  1612404021  \n",
       "2             0        2.17      GL  1612404021  \n",
       "3           100        4.39      TO  1612404022  \n",
       "4             0        2.20      GL  1612404022  \n",
       "..          ...         ...     ...         ...  \n",
       "540          20        1.03      CA  1612404007  \n",
       "541          75        6.69      BO  1612404006  \n",
       "542           0        5.14      IT  1612404177  \n",
       "543          46        2.24      AU  1612404177  \n",
       "544           0        1.31      MM  1612404177  \n",
       "\n",
       "[545 rows x 9 columns]"
      ]
     },
     "execution_count": 10,
     "metadata": {},
     "output_type": "execute_result"
    }
   ],
   "source": [
    "w_df = pd.read_csv(\"Weather.csv\")\n",
    "w_df"
   ]
  },
  {
   "cell_type": "code",
   "execution_count": null,
   "metadata": {},
   "outputs": [],
   "source": [
    "w_df.describe()"
   ]
  },
  {
   "cell_type": "code",
   "execution_count": 11,
   "metadata": {},
   "outputs": [
    {
     "data": {
      "image/png": "[encoded data removed]",
      "text/plain": [
       "<Figure size 432x288 with 12 Axes>"
      ]
     },
     "metadata": {
      "needs_background": "light"
     },
     "output_type": "display_data"
    }
   ],
   "source": [
    "fix, ax = plt.subplots(12)\n",
    "ax[0].scatter(x=w_df[\"Lat\"],y=w_df[\"Max Temp\"])\n",
    "ax[0].set_xlabel(\"Latitude\")\n",
    "ax[0].set_ylabel(\"Max Temperature (F)\")\n",
    "\n",
    "ax[1].scatter(x=w_df[\"Lat\"],y=w_df[\"Humidity\"])\n",
    "ax[1].set_xlabel(\"Latitude\")\n",
    "ax[1].set_ylabel(\"Humidity (%)\")\n",
    "\n",
    "ax[2].scatter(x=w_df[\"Lat\"],y=w_df[\"Cloudiness\"])\n",
    "ax[2].set_xlabel(\"Latitude\")\n",
    "ax[2].set_ylabel(\"Cloudiness (%)\")\n",
    "\n",
    "ax[3].scatter(x=w_df[\"Lat\"],y=w_df[\"Wind Speed\"])\n",
    "ax[3].set_xlabel(\"Latitude\")\n",
    "ax[3].set_ylabel(\"Wind Speed (mph)\")\n",
    "\n",
    "plt.show()"
   ]
  },
  {
   "cell_type": "code",
   "execution_count": null,
   "metadata": {},
   "outputs": [],
   "source": [
    "#Pretty print output of json\n",
    "#print(json.dumps(response, indent=4, sort_keys=True))"
   ]
  },
  {
   "cell_type": "code",
   "execution_count": null,
   "metadata": {},
   "outputs": [],
   "source": [
    "#query_url_l = f\"{url}lat={lat}&lon={lon}&appid={weather_api_key}\"\n"
   ]
  },
  {
   "cell_type": "code",
   "execution_count": null,
   "metadata": {},
   "outputs": [],
   "source": [
    "#!pip install citipy"
   ]
  },
  {
   "cell_type": "code",
   "execution_count": null,
   "metadata": {},
   "outputs": [],
   "source": []
  }
 ],
 "metadata": {
  "kernelspec": {
   "display_name": "Python 3",
   "language": "python",
   "name": "python3"
  },
  "language_info": {
   "codemirror_mode": {
    "name": "ipython",
    "version": 3
   },
   "file_extension": ".py",
   "mimetype": "text/x-python",
   "name": "python",
   "nbconvert_exporter": "python",
   "pygments_lexer": "ipython3",
   "version": "3.8.5"
  }
 },
 "nbformat": 4,
 "nbformat_minor": 4
}
